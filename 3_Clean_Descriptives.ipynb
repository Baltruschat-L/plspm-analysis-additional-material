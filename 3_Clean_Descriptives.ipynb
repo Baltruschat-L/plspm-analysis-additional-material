{
  "nbformat": 4,
  "nbformat_minor": 0,
  "metadata": {
    "colab": {
      "name": "3_Clean_Descriptives.ipynb",
      "provenance": [],
      "authorship_tag": "ABX9TyNomhMwT7RSqn6GVg8pKwz8",
      "include_colab_link": true
    },
    "kernelspec": {
      "name": "python3",
      "display_name": "Python 3"
    },
    "language_info": {
      "name": "python"
    }
  },
  "cells": [
    {
      "cell_type": "markdown",
      "metadata": {
        "id": "view-in-github",
        "colab_type": "text"
      },
      "source": [
        "<a href=\"https://colab.research.google.com/github/LillyBal/PLS_SEM_Capstone/blob/main/3_Clean_Descriptives.ipynb\" target=\"_parent\"><img src=\"https://colab.research.google.com/assets/colab-badge.svg\" alt=\"Open In Colab\"/></a>"
      ]
    },
    {
      "cell_type": "markdown",
      "source": [
        "# Clean Data for Descriptive Analysis\n"
      ],
      "metadata": {
        "id": "SSwx0JXSDOhj"
      }
    },
    {
      "cell_type": "markdown",
      "source": [
        "## Import Pandas and Data"
      ],
      "metadata": {
        "id": "O49AywBQDVTc"
      }
    },
    {
      "cell_type": "code",
      "execution_count": null,
      "metadata": {
        "id": "ITDgNY2TLk2m"
      },
      "outputs": [],
      "source": [
        "import pandas as pd\n",
        "\n",
        "df = pd.read_csv('data.csv')"
      ]
    },
    {
      "cell_type": "markdown",
      "source": [
        "## Recode variables"
      ],
      "metadata": {
        "id": "upUZl9DhMNIw"
      }
    },
    {
      "cell_type": "markdown",
      "source": [
        "Recode all construct variables on scale 1 to 5 to 'strongly disagree' to 'strongly agree'"
      ],
      "metadata": {
        "id": "C22faiNcDdwW"
      }
    },
    {
      "cell_type": "code",
      "source": [
        "column = ['Q2 Technology_1','Q2 Technology_2','Q2 Technology_3','Q2 Technology_4','Q2 Technology_5','Q2 Technology_6',\n",
        "          'Q3 Voluntairness_1','Q3 Voluntairness_2','Q3 Voluntairness_3','Q4 Incentives_1','Q4 Incentives_2','Q4 Incentives_3',\n",
        "          'Q4 Incentives_4','Q5 Transparency_1','Q5 Transparency_2','Q5 Transparency_3','Q5 Transparency_4','Q5 Transparency_5',\n",
        "          'Q6 Self Efficacy_1','Q6 Self Efficacy_2','Q6 Self Efficacy_3','Q6 Self Efficacy_4','Q6 Self Efficacy_5',\n",
        "          'Q7 Security_1','Q7 Security_2','Q7 Security_3','Q7 Security_4','Q8 Turst_1','Q8 Turst_2', 'Q8 Turst_3',\n",
        "          'Q9 Incentives_trust_1','Q9 Incentives_trust_2','Q9 Incentives_trust_3','Q9 Incentives_trust_4','Q10 Performance_1',\n",
        "          'Q10 Performance_2','Q10 Performance_3','Q10 Performance_4','Q10 Performance_5','Q11 Effort_1','Q11 Effort_2','Q11 Effort_3',\n",
        "          'Q12 Social_1','Q12 Social_2','Q12 Facilitating_1','Q12 Facilitating_2','Q12 Facilitating_3','Q13 Behaviour intent_1','Q13 Behaviour intent_2','Q13 Behaviour intent_3']\n",
        "\n",
        "for i in column:\n",
        "  df[i]=df[i].replace([1,2,3,4,5], [\"Strongly disagree\" ,\"Somewhat disagree\", \"Neither agree nor disagree\", \"Somewhat agree\",\"Strongly agree\"])"
      ],
      "metadata": {
        "id": "SrrK98zKMNp-"
      },
      "execution_count": null,
      "outputs": []
    },
    {
      "cell_type": "markdown",
      "source": [
        "Recode demographic variables based on qualtrics coding"
      ],
      "metadata": {
        "id": "zj1hweOFDoAc"
      }
    },
    {
      "cell_type": "code",
      "source": [
        "  df['Blockchain_Knowledge']=df['Blockchain_Knowledge'].replace([\"1\",\"2\",\"3\",\"4\",\"7\",\"8\",\"10\",\"11\"], [\"Investing\", \"Security\",'Digital Currency','Decentralization','Data sharing','Payment method', 'Trust','Other'])\n",
        "  df['Age']=df['Age'].replace([4,5,6,7,8,9,10], [\"18-29\" ,\"30-39\",\"40-49\",\"50-59\",\"60-69\",\"70-79\",\"above 80\"])\n",
        "  df['Gender']=df['Gender'].replace([1,2,3,4,5], [\"Male\" ,\"Female\", \"Non-binary/third gender\", \"Prefer not to say\",\"Other\"])\n",
        "  df['Education']=df['Education'].replace([1,2,3,4,5,6], [\"Middle School\" ,\"High School\", \"Bachelor\", \"Master\",\"PhD\",\"Other\"])\n",
        "  df['Occupation']=df['Occupation'].replace([1,2,3,4,5,6], [\"Unemployed\" ,\"Employed\", \"Self-employed\", \"Student\",\"Retired\",\"Other\"])\n",
        "  df['Nationality']=df['Nationality'].replace([\"1\",\"2\",\"3\",\"4\",\"5\",\"6\",\"7\",\"8\",\"9\"], [\"American\" ,\"British\",\"Belgian\", \"Dutch\", \"French\",\"German\",\"Italian\",\"Spanish\",\"Other\"])\n",
        "  df['Income']=df['Income'].replace([1,2,3,4,5], [\"Less than 10.000€\" ,\"Between 10.000€ and 30.000€\",\"Between 30.000 and 60.000€\",\"Higher than 60.000€\",\"Prefer not to say\"])\n"
      ],
      "metadata": {
        "id": "ucBZ2agDRRBz"
      },
      "execution_count": null,
      "outputs": []
    },
    {
      "cell_type": "markdown",
      "source": [
        "## Download Data\n",
        "download data as an excel file"
      ],
      "metadata": {
        "id": "pif41auIyPIK"
      }
    },
    {
      "cell_type": "code",
      "source": [
        "df.to_excel('descriptives.xlsx')"
      ],
      "metadata": {
        "id": "cjs9-GaHRUEH"
      },
      "execution_count": null,
      "outputs": []
    }
  ]
}