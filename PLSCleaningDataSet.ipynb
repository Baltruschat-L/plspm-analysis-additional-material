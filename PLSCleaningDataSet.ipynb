{
  "nbformat": 4,
  "nbformat_minor": 0,
  "metadata": {
    "colab": {
      "name": "PLSCleaningCapstone.ipynb",
      "provenance": [],
      "authorship_tag": "ABX9TyPCXqrAvMXk4eA8W1GZCPPA",
      "include_colab_link": true
    },
    "kernelspec": {
      "name": "python3",
      "display_name": "Python 3"
    },
    "language_info": {
      "name": "python"
    }
  },
  "cells": [
    {
      "cell_type": "markdown",
      "metadata": {
        "id": "view-in-github",
        "colab_type": "text"
      },
      "source": [
        "<a href=\"https://colab.research.google.com/github/LillyBal/PLS_SEM_Capstone/blob/main/PLSCleaningDataSet.ipynb\" target=\"_parent\"><img src=\"https://colab.research.google.com/assets/colab-badge.svg\" alt=\"Open In Colab\"/></a>"
      ]
    },
    {
      "cell_type": "markdown",
      "source": [
        "# Cleaning Data for PLS-SE Analysis"
      ],
      "metadata": {
        "id": "xVh3aLQPIwmg"
      }
    },
    {
      "cell_type": "markdown",
      "source": [
        "\n",
        "###Import data \n",
        "Import nummric csv file from Qualtrics & libraries pandas and numpy \n"
      ],
      "metadata": {
        "id": "CfbOWctLZ5bM"
      }
    },
    {
      "cell_type": "code",
      "execution_count": null,
      "metadata": {
        "id": "mF920b7mFIVf"
      },
      "outputs": [],
      "source": [
        "import pandas as pd\n",
        "import numpy as np\n",
        "\n",
        "data = pd.read_csv('/content/User+acceptability_May+21,+2022_08.58.csv')"
      ]
    },
    {
      "cell_type": "markdown",
      "source": [
        "###Cleaning\n",
        "\n",
        "1. Drop irrelevant columns\n",
        "2. Drop answers of testing phase (14 respondents)\n",
        "3. Drop answers that not consent\n"
      ],
      "metadata": {
        "id": "Wn_UpsxsaAro"
      }
    },
    {
      "cell_type": "code",
      "source": [
        "data = data.drop(data.loc[:, 'StartDate':'Duration (in seconds)'].columns, axis = 1)\n",
        "data = data.drop(data.loc[:, 'RecordedDate':'UserLanguage'].columns, axis = 1)"
      ],
      "metadata": {
        "id": "S2KUc7q3f5bH"
      },
      "execution_count": null,
      "outputs": []
    },
    {
      "cell_type": "code",
      "source": [
        "data = data.drop(data.loc[:15].index)"
      ],
      "metadata": {
        "id": "gSX-zCc4LAcB"
      },
      "execution_count": null,
      "outputs": []
    },
    {
      "cell_type": "code",
      "source": [
        "indexNames = data[  (data['Finished'] == 0) ].index\n",
        "data.drop(indexNames , inplace=True)"
      ],
      "metadata": {
        "id": "_GySUgEcO5tz"
      },
      "execution_count": null,
      "outputs": []
    },
    {
      "cell_type": "markdown",
      "source": [
        "###Create new Data frame\n",
        "create new data frame and delete all demographical columns. Convert data points into numeric data type."
      ],
      "metadata": {
        "id": "-IsdGcugJs-t"
      }
    },
    {
      "cell_type": "code",
      "source": [
        "df = pd.DataFrame(data)\n",
        "df = df.drop(df.loc[:, 'Intro':'Blockchain_Knowledge_11_TEXT'].columns, axis = 1)\n",
        "df = df.drop(df.loc[:, 'Q14':'Q19 Occupation_6_TEXT'].columns, axis = 1)\n",
        "df = df.drop('Q19 Mail', axis = 1)\n",
        "\n",
        "df = df.apply(pd.to_numeric)"
      ],
      "metadata": {
        "id": "AZr8MuUJaZXH"
      },
      "execution_count": null,
      "outputs": []
    },
    {
      "cell_type": "markdown",
      "source": [
        "Add demographic variables."
      ],
      "metadata": {
        "id": "uAUkGtPTLiuD"
      }
    },
    {
      "cell_type": "code",
      "source": [
        "df['Age'] = data['Q15_Age']\n",
        "df['Gender'] = data['Q16 Gender']\n",
        "df['Education'] = data['Q17 Education']\n",
        "df['Occupation'] = data['Q19 Occupation']\n",
        "df['Income'] = data['Q20 income']\n",
        "df['Income_Descriptives'] = data['Q20 income']\n",
        "df['Nationality'] = data['Q18 Nationality']\n",
        "df['Blockchain_Knowledge'] = data['Blockchain_Knowledge']"
      ],
      "metadata": {
        "id": "elIOwr--BruI"
      },
      "execution_count": null,
      "outputs": []
    },
    {
      "cell_type": "markdown",
      "source": [
        "### Missing values\n",
        "Delete all rows with more than 3 missing values."
      ],
      "metadata": {
        "id": "N6npDysyAim3"
      }
    },
    {
      "cell_type": "code",
      "source": [
        "df = df[df.isnull().sum(axis=1) > 3]"
      ],
      "metadata": {
        "id": "jJWobagdKkSX"
      },
      "execution_count": null,
      "outputs": []
    },
    {
      "cell_type": "markdown",
      "source": [
        "Create a dataframe containing nationality and blockchain_knowledge since they have no nummeric data (e.g. Germany and Dutch 3,2) "
      ],
      "metadata": {
        "id": "nPT2RLVhLA7h"
      }
    },
    {
      "cell_type": "code",
      "source": [
        "df2 = pd.DataFrame([df.Nationality, df.Blockchain_Knowledge]).transpose()\n",
        "df2 = df2.reset_index(drop=True)\n",
        "df2['Nationality'] = df2['Nationality'].fillna(0)\n",
        "df = df.drop(df.loc[:, 'Nationality':'Blockchain_Knowledge'].columns, axis = 1)"
      ],
      "metadata": {
        "id": "Xm7WZ7077mXs"
      },
      "execution_count": null,
      "outputs": []
    },
    {
      "cell_type": "markdown",
      "source": [
        "Compute missing values with KNNImputer."
      ],
      "metadata": {
        "id": "zlWlqevMLPlY"
      }
    },
    {
      "cell_type": "code",
      "source": [
        "from sklearn.impute import KNNImputer\n",
        "imputer = KNNImputer(missing_values=np.nan, n_neighbors=5)\n",
        "df = pd.DataFrame(imputer.fit_transform(df),columns = df.columns)"
      ],
      "metadata": {
        "id": "aX9Kp4auK8jv"
      },
      "execution_count": null,
      "outputs": []
    },
    {
      "cell_type": "markdown",
      "source": [
        "Add Nationality and Blockchain_Knowledge to the data frame with the computed missing values."
      ],
      "metadata": {
        "id": "kKKhJlnKLVq7"
      }
    },
    {
      "cell_type": "code",
      "source": [
        "df = df.join(df2, how='left')\n",
        "df.rename(columns = {'Q12 Social Facil_1':'Q12 Social_1', 'Q12 Social Facil_2':'Q12 Social_2', 'Q12 Social Facil_3':'Q12 Facilitating_1', 'Q12 Social Facil_4':'Q12 Facilitating_2', 'Q12 Social Facil_5':'Q12 Facilitating_3'}, inplace = True)\n"
      ],
      "metadata": {
        "id": "FvS85GLSAh2q"
      },
      "execution_count": null,
      "outputs": []
    },
    {
      "cell_type": "markdown",
      "source": [
        "#Download\n",
        "\n",
        "Download new files for visualisation and analysis."
      ],
      "metadata": {
        "id": "4Aa4NlGt-z6g"
      }
    },
    {
      "cell_type": "code",
      "source": [
        "df.to_excel('data.xlsx')\n",
        "df.to_csv('data.csv')"
      ],
      "metadata": {
        "id": "MHnkZV8I9BLr"
      },
      "execution_count": null,
      "outputs": []
    }
  ]
}