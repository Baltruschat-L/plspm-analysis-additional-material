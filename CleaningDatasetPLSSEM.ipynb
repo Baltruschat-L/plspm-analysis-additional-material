{
  "nbformat": 4,
  "nbformat_minor": 0,
  "metadata": {
    "colab": {
      "name": "CleaningDatasetPLSSEM.ipynb",
      "provenance": [],
      "authorship_tag": "ABX9TyM53iIsXMBRUVYALf+id8kg",
      "include_colab_link": true
    },
    "kernelspec": {
      "name": "python3",
      "display_name": "Python 3"
    },
    "language_info": {
      "name": "python"
    }
  },
  "cells": [
    {
      "cell_type": "markdown",
      "metadata": {
        "id": "view-in-github",
        "colab_type": "text"
      },
      "source": [
        "<a href=\"https://colab.research.google.com/github/LillyBal/PLS_SEM_Capstone/blob/main/CleaningDatasetPLSSEM.ipynb\" target=\"_parent\"><img src=\"https://colab.research.google.com/assets/colab-badge.svg\" alt=\"Open In Colab\"/></a>"
      ]
    },
    {
      "cell_type": "markdown",
      "source": [
        "# Cleaning Data for PLS-SE Analysis"
      ],
      "metadata": {
        "id": "xVh3aLQPIwmg"
      }
    },
    {
      "cell_type": "markdown",
      "source": [
        "\n",
        "###Import data \n",
        "Import nummric csv file from Qualtrics & libraries pandas and numpy \n"
      ],
      "metadata": {
        "id": "CfbOWctLZ5bM"
      }
    },
    {
      "cell_type": "code",
      "execution_count": 112,
      "metadata": {
        "id": "mF920b7mFIVf"
      },
      "outputs": [],
      "source": [
        "import pandas as pd\n",
        "import numpy as np\n",
        "\n",
        "data = pd.read_csv('/content/User+acceptability_May+21,+2022_08.58.csv')"
      ]
    },
    {
      "cell_type": "markdown",
      "source": [
        "###Cleaning\n",
        "\n",
        "1. Drop irrelevant columns\n",
        "2. Drop answers of testing phase (14 respondents)\n",
        "3. Drop answers that not consent\n"
      ],
      "metadata": {
        "id": "Wn_UpsxsaAro"
      }
    },
    {
      "cell_type": "code",
      "source": [
        "data = data.drop(data.loc[:, 'StartDate':'Duration (in seconds)'].columns, axis = 1)\n",
        "data = data.drop(data.loc[:, 'RecordedDate':'UserLanguage'].columns, axis = 1)"
      ],
      "metadata": {
        "id": "S2KUc7q3f5bH"
      },
      "execution_count": 113,
      "outputs": []
    },
    {
      "cell_type": "code",
      "source": [
        "data = data.drop(data.loc[:15].index)"
      ],
      "metadata": {
        "id": "gSX-zCc4LAcB"
      },
      "execution_count": 114,
      "outputs": []
    },
    {
      "cell_type": "code",
      "source": [
        "indexNames = data[  (data['Finished'] == 0) ].index\n",
        "data.drop(indexNames , inplace=True)"
      ],
      "metadata": {
        "id": "_GySUgEcO5tz"
      },
      "execution_count": 115,
      "outputs": []
    },
    {
      "cell_type": "markdown",
      "source": [
        "###Create new Data frame\n",
        "create new data frame and delete all demographical columns. Convert data points into numeric data type."
      ],
      "metadata": {
        "id": "-IsdGcugJs-t"
      }
    },
    {
      "cell_type": "code",
      "source": [
        "df = pd.DataFrame(data)\n",
        "df = df.drop(df.loc[:, 'Intro':'Blockchain_Knowledge_11_TEXT'].columns, axis = 1)\n",
        "df = df.drop(df.loc[:, 'Q14':'Q19 Occupation_6_TEXT'].columns, axis = 1)\n",
        "df = df.drop('Q19 Mail', axis = 1)\n",
        "\n",
        "df = df.apply(pd.to_numeric)"
      ],
      "metadata": {
        "id": "AZr8MuUJaZXH"
      },
      "execution_count": 116,
      "outputs": []
    },
    {
      "cell_type": "markdown",
      "source": [
        "Add demographic variables."
      ],
      "metadata": {
        "id": "uAUkGtPTLiuD"
      }
    },
    {
      "cell_type": "code",
      "source": [
        "df['Age'] = data['Q15_Age']\n",
        "df['Gender'] = data['Q16 Gender']\n",
        "df['Education'] = data['Q17 Education']\n",
        "df['Occupation'] = data['Q19 Occupation']\n",
        "df['Income'] = data['Q20 income']\n",
        "df['Income_Descriptives'] = data['Q20 income']\n",
        "df['Nationality'] = data['Q18 Nationality']\n",
        "df['Blockchain_Knowledge'] = data['Blockchain_Knowledge']"
      ],
      "metadata": {
        "id": "elIOwr--BruI"
      },
      "execution_count": 117,
      "outputs": []
    },
    {
      "cell_type": "code",
      "source": [
        "df.describe()"
      ],
      "metadata": {
        "id": "MjMEEBppPqRT",
        "outputId": "d1f8ecee-cd87-408d-866d-61733829d284",
        "colab": {
          "base_uri": "https://localhost:8080/",
          "height": 428
        }
      },
      "execution_count": 118,
      "outputs": [
        {
          "output_type": "execute_result",
          "data": {
            "text/plain": [
              "         Finished  Q2 Technology_1  Q2 Technology_2  Q2 Technology_3  \\\n",
              "count  337.000000       292.000000       290.000000       291.000000   \n",
              "mean     0.557864         3.229452         3.634483         4.336770   \n",
              "std      0.497379         1.123976         1.037790         0.963107   \n",
              "min      0.000000         1.000000         1.000000         1.000000   \n",
              "25%      0.000000         2.000000         3.000000         4.000000   \n",
              "50%      1.000000         3.000000         4.000000         5.000000   \n",
              "75%      1.000000         4.000000         4.000000         5.000000   \n",
              "max      1.000000         5.000000         5.000000         5.000000   \n",
              "\n",
              "       Q2 Technology_4  Q2 Technology_5  Q2 Technology_6  Q3 Voluntairness_1  \\\n",
              "count       290.000000       291.000000       290.000000          278.000000   \n",
              "mean          2.693103         3.061856         2.093103            3.964029   \n",
              "std           1.381647         1.303691         1.101252            0.960671   \n",
              "min           1.000000         1.000000         1.000000            1.000000   \n",
              "25%           1.000000         2.000000         1.000000            4.000000   \n",
              "50%           2.500000         3.000000         2.000000            4.000000   \n",
              "75%           4.000000         4.000000         3.000000            5.000000   \n",
              "max           5.000000         5.000000         5.000000            5.000000   \n",
              "\n",
              "       Q3 Voluntairness_2  Q3 Voluntairness_3  ...  Q11 Effort_3  \\\n",
              "count          278.000000          278.000000  ...    187.000000   \n",
              "mean             2.453237            3.679856  ...      3.390374   \n",
              "std              1.284301            0.977190  ...      0.923128   \n",
              "min              1.000000            1.000000  ...      1.000000   \n",
              "25%              1.000000            3.000000  ...      3.000000   \n",
              "50%              2.000000            4.000000  ...      3.000000   \n",
              "75%              4.000000            4.000000  ...      4.000000   \n",
              "max              5.000000            5.000000  ...      5.000000   \n",
              "\n",
              "       Q12 Social Facil_1  Q12 Social Facil_2  Q12 Social Facil_3  \\\n",
              "count          188.000000          188.000000          188.000000   \n",
              "mean             2.771277            3.452128            3.265957   \n",
              "std              0.984274            1.004187            1.091293   \n",
              "min              1.000000            1.000000            1.000000   \n",
              "25%              2.000000            3.000000            2.000000   \n",
              "50%              3.000000            4.000000            3.000000   \n",
              "75%              3.000000            4.000000            4.000000   \n",
              "max              5.000000            5.000000            5.000000   \n",
              "\n",
              "       Q12 Social Facil_4  Q12 Social Facil_5  Q13 Behaviour intent_1  \\\n",
              "count          188.000000          188.000000              187.000000   \n",
              "mean             3.446809            3.202128                3.609626   \n",
              "std              1.085806            1.197857                1.058764   \n",
              "min              1.000000            1.000000                1.000000   \n",
              "25%              3.000000            2.000000                3.000000   \n",
              "50%              4.000000            3.000000                4.000000   \n",
              "75%              4.000000            4.000000                4.000000   \n",
              "max              5.000000            5.000000                5.000000   \n",
              "\n",
              "       Q13 Behaviour intent_2  Q13 Behaviour intent_3  Q20 income  \n",
              "count              187.000000              187.000000  188.000000  \n",
              "mean                 3.320856                3.491979    3.021277  \n",
              "std                  1.012685                1.123402    1.402662  \n",
              "min                  1.000000                1.000000    1.000000  \n",
              "25%                  3.000000                3.000000    2.000000  \n",
              "50%                  3.000000                4.000000    3.000000  \n",
              "75%                  4.000000                4.000000    4.000000  \n",
              "max                  5.000000                5.000000    5.000000  \n",
              "\n",
              "[8 rows x 52 columns]"
            ],
            "text/html": [
              "\n",
              "  <div id=\"df-ce93acb8-4a94-4800-bedf-b7f916a8d588\">\n",
              "    <div class=\"colab-df-container\">\n",
              "      <div>\n",
              "<style scoped>\n",
              "    .dataframe tbody tr th:only-of-type {\n",
              "        vertical-align: middle;\n",
              "    }\n",
              "\n",
              "    .dataframe tbody tr th {\n",
              "        vertical-align: top;\n",
              "    }\n",
              "\n",
              "    .dataframe thead th {\n",
              "        text-align: right;\n",
              "    }\n",
              "</style>\n",
              "<table border=\"1\" class=\"dataframe\">\n",
              "  <thead>\n",
              "    <tr style=\"text-align: right;\">\n",
              "      <th></th>\n",
              "      <th>Finished</th>\n",
              "      <th>Q2 Technology_1</th>\n",
              "      <th>Q2 Technology_2</th>\n",
              "      <th>Q2 Technology_3</th>\n",
              "      <th>Q2 Technology_4</th>\n",
              "      <th>Q2 Technology_5</th>\n",
              "      <th>Q2 Technology_6</th>\n",
              "      <th>Q3 Voluntairness_1</th>\n",
              "      <th>Q3 Voluntairness_2</th>\n",
              "      <th>Q3 Voluntairness_3</th>\n",
              "      <th>...</th>\n",
              "      <th>Q11 Effort_3</th>\n",
              "      <th>Q12 Social Facil_1</th>\n",
              "      <th>Q12 Social Facil_2</th>\n",
              "      <th>Q12 Social Facil_3</th>\n",
              "      <th>Q12 Social Facil_4</th>\n",
              "      <th>Q12 Social Facil_5</th>\n",
              "      <th>Q13 Behaviour intent_1</th>\n",
              "      <th>Q13 Behaviour intent_2</th>\n",
              "      <th>Q13 Behaviour intent_3</th>\n",
              "      <th>Q20 income</th>\n",
              "    </tr>\n",
              "  </thead>\n",
              "  <tbody>\n",
              "    <tr>\n",
              "      <th>count</th>\n",
              "      <td>337.000000</td>\n",
              "      <td>292.000000</td>\n",
              "      <td>290.000000</td>\n",
              "      <td>291.000000</td>\n",
              "      <td>290.000000</td>\n",
              "      <td>291.000000</td>\n",
              "      <td>290.000000</td>\n",
              "      <td>278.000000</td>\n",
              "      <td>278.000000</td>\n",
              "      <td>278.000000</td>\n",
              "      <td>...</td>\n",
              "      <td>187.000000</td>\n",
              "      <td>188.000000</td>\n",
              "      <td>188.000000</td>\n",
              "      <td>188.000000</td>\n",
              "      <td>188.000000</td>\n",
              "      <td>188.000000</td>\n",
              "      <td>187.000000</td>\n",
              "      <td>187.000000</td>\n",
              "      <td>187.000000</td>\n",
              "      <td>188.000000</td>\n",
              "    </tr>\n",
              "    <tr>\n",
              "      <th>mean</th>\n",
              "      <td>0.557864</td>\n",
              "      <td>3.229452</td>\n",
              "      <td>3.634483</td>\n",
              "      <td>4.336770</td>\n",
              "      <td>2.693103</td>\n",
              "      <td>3.061856</td>\n",
              "      <td>2.093103</td>\n",
              "      <td>3.964029</td>\n",
              "      <td>2.453237</td>\n",
              "      <td>3.679856</td>\n",
              "      <td>...</td>\n",
              "      <td>3.390374</td>\n",
              "      <td>2.771277</td>\n",
              "      <td>3.452128</td>\n",
              "      <td>3.265957</td>\n",
              "      <td>3.446809</td>\n",
              "      <td>3.202128</td>\n",
              "      <td>3.609626</td>\n",
              "      <td>3.320856</td>\n",
              "      <td>3.491979</td>\n",
              "      <td>3.021277</td>\n",
              "    </tr>\n",
              "    <tr>\n",
              "      <th>std</th>\n",
              "      <td>0.497379</td>\n",
              "      <td>1.123976</td>\n",
              "      <td>1.037790</td>\n",
              "      <td>0.963107</td>\n",
              "      <td>1.381647</td>\n",
              "      <td>1.303691</td>\n",
              "      <td>1.101252</td>\n",
              "      <td>0.960671</td>\n",
              "      <td>1.284301</td>\n",
              "      <td>0.977190</td>\n",
              "      <td>...</td>\n",
              "      <td>0.923128</td>\n",
              "      <td>0.984274</td>\n",
              "      <td>1.004187</td>\n",
              "      <td>1.091293</td>\n",
              "      <td>1.085806</td>\n",
              "      <td>1.197857</td>\n",
              "      <td>1.058764</td>\n",
              "      <td>1.012685</td>\n",
              "      <td>1.123402</td>\n",
              "      <td>1.402662</td>\n",
              "    </tr>\n",
              "    <tr>\n",
              "      <th>min</th>\n",
              "      <td>0.000000</td>\n",
              "      <td>1.000000</td>\n",
              "      <td>1.000000</td>\n",
              "      <td>1.000000</td>\n",
              "      <td>1.000000</td>\n",
              "      <td>1.000000</td>\n",
              "      <td>1.000000</td>\n",
              "      <td>1.000000</td>\n",
              "      <td>1.000000</td>\n",
              "      <td>1.000000</td>\n",
              "      <td>...</td>\n",
              "      <td>1.000000</td>\n",
              "      <td>1.000000</td>\n",
              "      <td>1.000000</td>\n",
              "      <td>1.000000</td>\n",
              "      <td>1.000000</td>\n",
              "      <td>1.000000</td>\n",
              "      <td>1.000000</td>\n",
              "      <td>1.000000</td>\n",
              "      <td>1.000000</td>\n",
              "      <td>1.000000</td>\n",
              "    </tr>\n",
              "    <tr>\n",
              "      <th>25%</th>\n",
              "      <td>0.000000</td>\n",
              "      <td>2.000000</td>\n",
              "      <td>3.000000</td>\n",
              "      <td>4.000000</td>\n",
              "      <td>1.000000</td>\n",
              "      <td>2.000000</td>\n",
              "      <td>1.000000</td>\n",
              "      <td>4.000000</td>\n",
              "      <td>1.000000</td>\n",
              "      <td>3.000000</td>\n",
              "      <td>...</td>\n",
              "      <td>3.000000</td>\n",
              "      <td>2.000000</td>\n",
              "      <td>3.000000</td>\n",
              "      <td>2.000000</td>\n",
              "      <td>3.000000</td>\n",
              "      <td>2.000000</td>\n",
              "      <td>3.000000</td>\n",
              "      <td>3.000000</td>\n",
              "      <td>3.000000</td>\n",
              "      <td>2.000000</td>\n",
              "    </tr>\n",
              "    <tr>\n",
              "      <th>50%</th>\n",
              "      <td>1.000000</td>\n",
              "      <td>3.000000</td>\n",
              "      <td>4.000000</td>\n",
              "      <td>5.000000</td>\n",
              "      <td>2.500000</td>\n",
              "      <td>3.000000</td>\n",
              "      <td>2.000000</td>\n",
              "      <td>4.000000</td>\n",
              "      <td>2.000000</td>\n",
              "      <td>4.000000</td>\n",
              "      <td>...</td>\n",
              "      <td>3.000000</td>\n",
              "      <td>3.000000</td>\n",
              "      <td>4.000000</td>\n",
              "      <td>3.000000</td>\n",
              "      <td>4.000000</td>\n",
              "      <td>3.000000</td>\n",
              "      <td>4.000000</td>\n",
              "      <td>3.000000</td>\n",
              "      <td>4.000000</td>\n",
              "      <td>3.000000</td>\n",
              "    </tr>\n",
              "    <tr>\n",
              "      <th>75%</th>\n",
              "      <td>1.000000</td>\n",
              "      <td>4.000000</td>\n",
              "      <td>4.000000</td>\n",
              "      <td>5.000000</td>\n",
              "      <td>4.000000</td>\n",
              "      <td>4.000000</td>\n",
              "      <td>3.000000</td>\n",
              "      <td>5.000000</td>\n",
              "      <td>4.000000</td>\n",
              "      <td>4.000000</td>\n",
              "      <td>...</td>\n",
              "      <td>4.000000</td>\n",
              "      <td>3.000000</td>\n",
              "      <td>4.000000</td>\n",
              "      <td>4.000000</td>\n",
              "      <td>4.000000</td>\n",
              "      <td>4.000000</td>\n",
              "      <td>4.000000</td>\n",
              "      <td>4.000000</td>\n",
              "      <td>4.000000</td>\n",
              "      <td>4.000000</td>\n",
              "    </tr>\n",
              "    <tr>\n",
              "      <th>max</th>\n",
              "      <td>1.000000</td>\n",
              "      <td>5.000000</td>\n",
              "      <td>5.000000</td>\n",
              "      <td>5.000000</td>\n",
              "      <td>5.000000</td>\n",
              "      <td>5.000000</td>\n",
              "      <td>5.000000</td>\n",
              "      <td>5.000000</td>\n",
              "      <td>5.000000</td>\n",
              "      <td>5.000000</td>\n",
              "      <td>...</td>\n",
              "      <td>5.000000</td>\n",
              "      <td>5.000000</td>\n",
              "      <td>5.000000</td>\n",
              "      <td>5.000000</td>\n",
              "      <td>5.000000</td>\n",
              "      <td>5.000000</td>\n",
              "      <td>5.000000</td>\n",
              "      <td>5.000000</td>\n",
              "      <td>5.000000</td>\n",
              "      <td>5.000000</td>\n",
              "    </tr>\n",
              "  </tbody>\n",
              "</table>\n",
              "<p>8 rows × 52 columns</p>\n",
              "</div>\n",
              "      <button class=\"colab-df-convert\" onclick=\"convertToInteractive('df-ce93acb8-4a94-4800-bedf-b7f916a8d588')\"\n",
              "              title=\"Convert this dataframe to an interactive table.\"\n",
              "              style=\"display:none;\">\n",
              "        \n",
              "  <svg xmlns=\"http://www.w3.org/2000/svg\" height=\"24px\"viewBox=\"0 0 24 24\"\n",
              "       width=\"24px\">\n",
              "    <path d=\"M0 0h24v24H0V0z\" fill=\"none\"/>\n",
              "    <path d=\"M18.56 5.44l.94 2.06.94-2.06 2.06-.94-2.06-.94-.94-2.06-.94 2.06-2.06.94zm-11 1L8.5 8.5l.94-2.06 2.06-.94-2.06-.94L8.5 2.5l-.94 2.06-2.06.94zm10 10l.94 2.06.94-2.06 2.06-.94-2.06-.94-.94-2.06-.94 2.06-2.06.94z\"/><path d=\"M17.41 7.96l-1.37-1.37c-.4-.4-.92-.59-1.43-.59-.52 0-1.04.2-1.43.59L10.3 9.45l-7.72 7.72c-.78.78-.78 2.05 0 2.83L4 21.41c.39.39.9.59 1.41.59.51 0 1.02-.2 1.41-.59l7.78-7.78 2.81-2.81c.8-.78.8-2.07 0-2.86zM5.41 20L4 18.59l7.72-7.72 1.47 1.35L5.41 20z\"/>\n",
              "  </svg>\n",
              "      </button>\n",
              "      \n",
              "  <style>\n",
              "    .colab-df-container {\n",
              "      display:flex;\n",
              "      flex-wrap:wrap;\n",
              "      gap: 12px;\n",
              "    }\n",
              "\n",
              "    .colab-df-convert {\n",
              "      background-color: #E8F0FE;\n",
              "      border: none;\n",
              "      border-radius: 50%;\n",
              "      cursor: pointer;\n",
              "      display: none;\n",
              "      fill: #1967D2;\n",
              "      height: 32px;\n",
              "      padding: 0 0 0 0;\n",
              "      width: 32px;\n",
              "    }\n",
              "\n",
              "    .colab-df-convert:hover {\n",
              "      background-color: #E2EBFA;\n",
              "      box-shadow: 0px 1px 2px rgba(60, 64, 67, 0.3), 0px 1px 3px 1px rgba(60, 64, 67, 0.15);\n",
              "      fill: #174EA6;\n",
              "    }\n",
              "\n",
              "    [theme=dark] .colab-df-convert {\n",
              "      background-color: #3B4455;\n",
              "      fill: #D2E3FC;\n",
              "    }\n",
              "\n",
              "    [theme=dark] .colab-df-convert:hover {\n",
              "      background-color: #434B5C;\n",
              "      box-shadow: 0px 1px 3px 1px rgba(0, 0, 0, 0.15);\n",
              "      filter: drop-shadow(0px 1px 2px rgba(0, 0, 0, 0.3));\n",
              "      fill: #FFFFFF;\n",
              "    }\n",
              "  </style>\n",
              "\n",
              "      <script>\n",
              "        const buttonEl =\n",
              "          document.querySelector('#df-ce93acb8-4a94-4800-bedf-b7f916a8d588 button.colab-df-convert');\n",
              "        buttonEl.style.display =\n",
              "          google.colab.kernel.accessAllowed ? 'block' : 'none';\n",
              "\n",
              "        async function convertToInteractive(key) {\n",
              "          const element = document.querySelector('#df-ce93acb8-4a94-4800-bedf-b7f916a8d588');\n",
              "          const dataTable =\n",
              "            await google.colab.kernel.invokeFunction('convertToInteractive',\n",
              "                                                     [key], {});\n",
              "          if (!dataTable) return;\n",
              "\n",
              "          const docLinkHtml = 'Like what you see? Visit the ' +\n",
              "            '<a target=\"_blank\" href=https://colab.research.google.com/notebooks/data_table.ipynb>data table notebook</a>'\n",
              "            + ' to learn more about interactive tables.';\n",
              "          element.innerHTML = '';\n",
              "          dataTable['output_type'] = 'display_data';\n",
              "          await google.colab.output.renderOutput(dataTable, element);\n",
              "          const docLink = document.createElement('div');\n",
              "          docLink.innerHTML = docLinkHtml;\n",
              "          element.appendChild(docLink);\n",
              "        }\n",
              "      </script>\n",
              "    </div>\n",
              "  </div>\n",
              "  "
            ]
          },
          "metadata": {},
          "execution_count": 118
        }
      ]
    },
    {
      "cell_type": "markdown",
      "source": [
        "### Missing values\n",
        "Delete all rows with more than 5 missing values."
      ],
      "metadata": {
        "id": "N6npDysyAim3"
      }
    },
    {
      "cell_type": "code",
      "source": [
        "df = df[df.isnull().sum(axis=1) < 6]"
      ],
      "metadata": {
        "id": "jJWobagdKkSX"
      },
      "execution_count": 119,
      "outputs": []
    },
    {
      "cell_type": "markdown",
      "source": [
        "Create a dataframe containing nationality and blockchain_knowledge since they have no nummeric data (e.g. Germany and Dutch 3,2) "
      ],
      "metadata": {
        "id": "nPT2RLVhLA7h"
      }
    },
    {
      "cell_type": "code",
      "source": [
        "df2 = pd.DataFrame([df.Nationality, df.Blockchain_Knowledge]).transpose()\n",
        "df2 = df2.reset_index(drop=True)\n",
        "df2['Nationality'] = df2['Nationality'].fillna(0)\n",
        "df = df.drop(df.loc[:, 'Nationality':'Blockchain_Knowledge'].columns, axis = 1)"
      ],
      "metadata": {
        "id": "Xm7WZ7077mXs"
      },
      "execution_count": 121,
      "outputs": []
    },
    {
      "cell_type": "markdown",
      "source": [
        "Compute missing values with KNNImputer."
      ],
      "metadata": {
        "id": "zlWlqevMLPlY"
      }
    },
    {
      "cell_type": "code",
      "source": [
        "from sklearn.impute import KNNImputer\n",
        "imputer = KNNImputer(missing_values=np.nan, n_neighbors=5)\n",
        "df = pd.DataFrame(imputer.fit_transform(df),columns = df.columns)"
      ],
      "metadata": {
        "id": "aX9Kp4auK8jv"
      },
      "execution_count": 122,
      "outputs": []
    },
    {
      "cell_type": "markdown",
      "source": [
        "Add Nationality and Blockchain_Knowledge to the data frame with the computed missing values."
      ],
      "metadata": {
        "id": "kKKhJlnKLVq7"
      }
    },
    {
      "cell_type": "code",
      "source": [
        "df = df.join(df2, how='left')\n",
        "df.rename(columns = {'Q12 Social Facil_1':'Q12 Social_1', 'Q12 Social Facil_2':'Q12 Social_2', 'Q12 Social Facil_3':'Q12 Facilitating_1', 'Q12 Social Facil_4':'Q12 Facilitating_2', 'Q12 Social Facil_5':'Q12 Facilitating_3'}, inplace = True)\n"
      ],
      "metadata": {
        "id": "FvS85GLSAh2q"
      },
      "execution_count": 123,
      "outputs": []
    },
    {
      "cell_type": "markdown",
      "source": [
        "#Download\n",
        "\n",
        "Download new files for visualisation and analysis."
      ],
      "metadata": {
        "id": "4Aa4NlGt-z6g"
      }
    },
    {
      "cell_type": "code",
      "source": [
        "df.to_excel('data.xlsx')\n",
        "df.to_csv('data.csv')"
      ],
      "metadata": {
        "id": "MHnkZV8I9BLr"
      },
      "execution_count": 125,
      "outputs": []
    }
  ]
}